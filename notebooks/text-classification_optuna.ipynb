{
 "cells": [
  {
   "cell_type": "markdown",
   "id": "552ec552",
   "metadata": {},
   "source": [
    "# SetFit Text Classification Hyperparameter Search"
   ]
  },
  {
   "cell_type": "markdown",
   "id": "3af7f258-5aaf-47c2-b81e-2f10fc349812",
   "metadata": {},
   "source": [
    "In this notebook, we'll learn how to do hyperparameter search with SetFit."
   ]
  },
  {
   "cell_type": "markdown",
   "id": "c5604f73-f395-42cb-8082-9974a87ef9e9",
   "metadata": {},
   "source": [
    "## Setup"
   ]
  },
  {
   "cell_type": "markdown",
   "id": "26f09e23-2e1f-41f6-bb40-a30d447a0541",
   "metadata": {},
   "source": [
    "If you're running this Notebook on Colab or some other cloud platform, you will need to install the `setfit` and `optuna` libraries. Uncomment the following cell and run it:"
   ]
  },
  {
   "cell_type": "code",
   "execution_count": 1,
   "id": "277ed9b9-459c-465e-b750-13759978e616",
   "metadata": {},
   "outputs": [],
   "source": [
    "# %pip install setfit[optuna]"
   ]
  },
  {
   "cell_type": "code",
   "execution_count": 2,
   "id": "39a5353e-52aa-4cb8-8f8f-524e3746c833",
   "metadata": {},
   "outputs": [],
   "source": [
    "import numpy as np\n",
    "from datasets import load_dataset\n",
    "from sentence_transformers.losses import CosineSimilarityLoss\n",
    "from setfit import SetFitModel, SetFitTrainer"
   ]
  },
  {
   "cell_type": "markdown",
   "id": "b68b26a3-1c56-4373-8060-97f747168ede",
   "metadata": {
    "tags": []
   },
   "source": [
    "First, we prepare the dataset. For details, see the multilabel training notebook."
   ]
  },
  {
   "cell_type": "code",
   "execution_count": 3,
   "id": "0eb9bc83-bf99-422c-b123-4fcaed168bcb",
   "metadata": {},
   "outputs": [
    {
     "name": "stderr",
     "output_type": "stream",
     "text": [
      "Reusing dataset ethos (/root/.cache/huggingface/datasets/ethos/multilabel/1.0.0/898d3d005459ee3ff80dbeec2f169c6b7ea13de31a08458193e27dec3dd9ae38)\n"
     ]
    },
    {
     "data": {
      "application/vnd.jupyter.widget-view+json": {
       "model_id": "eabb47f4d7814940b0791ceb58dba305",
       "version_major": 2,
       "version_minor": 0
      },
      "text/plain": [
       "  0%|          | 0/1 [00:00<?, ?it/s]"
      ]
     },
     "metadata": {},
     "output_type": "display_data"
    },
    {
     "name": "stderr",
     "output_type": "stream",
     "text": [
      "Parameter 'function'=<function encode_labels at 0x7f9bfbd45870> of the transform datasets.arrow_dataset.Dataset._map_single couldn't be hashed properly, a random hash was used instead. Make sure your transforms and parameters are serializable with pickle or dill for the dataset fingerprinting and caching to work. If you reuse this transform, the caching mechanism will consider it to be different from the previous calls and recompute everything. This warning is only showed once. Subsequent hashing failures won't be showed.\n"
     ]
    },
    {
     "data": {
      "application/vnd.jupyter.widget-view+json": {
       "model_id": "145654ead8b64a45a64fe6a4cbb34601",
       "version_major": 2,
       "version_minor": 0
      },
      "text/plain": [
       "  0%|          | 0/433 [00:00<?, ?ex/s]"
      ]
     },
     "metadata": {},
     "output_type": "display_data"
    }
   ],
   "source": [
    "def encode_labels(record):\n",
    "    return {\"labels\": [record[feature] for feature in features]}\n",
    "\n",
    "\n",
    "num_samples = 4\n",
    "dataset = load_dataset(\"ethos\", \"multilabel\")\n",
    "\n",
    "features = dataset[\"train\"].column_names\n",
    "features.remove(\"text\")\n",
    "samples = np.concatenate([np.random.choice(np.where(dataset[\"train\"][f])[0], num_samples) for f in features])\n",
    "dataset = dataset.map(encode_labels)\n",
    "train_dataset = dataset[\"train\"].select(samples)\n",
    "eval_dataset = dataset[\"train\"].select(np.setdiff1d(np.arange(len(dataset[\"train\"])), samples))"
   ]
  },
  {
   "cell_type": "markdown",
   "id": "37e7c839-1f06-4d35-aa34-6e13659db814",
   "metadata": {},
   "source": [
    "## Hyperparameter search\n",
    "For a hyperparameter search we need several changes to the normal training setup:\n",
    "\n",
    "* Instead of a model, we pass a `model_init` function, which optionally can use the optuna trial\n",
    "* We set up a function that defines which parameters we are interested in optimizing"
   ]
  },
  {
   "cell_type": "code",
   "execution_count": 4,
   "id": "33661c9d-46d3-42eb-9b15-8a2bc49d7f6c",
   "metadata": {},
   "outputs": [],
   "source": [
    "model_id = \"sentence-transformers/paraphrase-mpnet-base-v2\"\n",
    "\n",
    "\n",
    "def make_model(trial=None):\n",
    "    multi_target_strategy = trial.params[\"multi_target_strategy\"] if trial else \"one-vs-rest\"\n",
    "    return SetFitModel.from_pretrained(\n",
    "        model_id, multi_target_strategy=multi_target_strategy\n",
    "    )"
   ]
  },
  {
   "cell_type": "code",
   "execution_count": 5,
   "id": "e44b7069-27b0-49ea-bc27-c44f94a98e2f",
   "metadata": {},
   "outputs": [
    {
     "name": "stderr",
     "output_type": "stream",
     "text": [
      "model_head.pkl not found on HuggingFace Hub, initialising classification head with random weights. You should TRAIN this model on a downstream task to use it for predictions and inference.\n"
     ]
    }
   ],
   "source": [
    "trainer = SetFitTrainer(\n",
    "    model_init=make_model,\n",
    "    train_dataset=train_dataset,\n",
    "    eval_dataset=eval_dataset,\n",
    "    loss_class=CosineSimilarityLoss,\n",
    "    num_epochs=1,\n",
    "    num_iterations=5,\n",
    "    column_mapping={\"text\": \"text\", \"labels\": \"label\"},\n",
    ")"
   ]
  },
  {
   "cell_type": "markdown",
   "id": "2d72e447-176e-4e86-9bb7-94544bfbb389",
   "metadata": {},
   "source": [
    "For this particular trial, we try to find the optimal learning rate, `multi_target_strategy`, and batch size for training with only 5 iterations on 4 samples/class."
   ]
  },
  {
   "cell_type": "code",
   "execution_count": 6,
   "id": "ad731ca4-0cfa-458a-bb0e-7da5a8187979",
   "metadata": {},
   "outputs": [],
   "source": [
    "def hyperparameter_search_function(trial):\n",
    "    return {\n",
    "        \"learning_rate\": trial.suggest_float(\"learning_rate\", 1e-6, 1e-3, log=True),\n",
    "        \"batch_size\": trial.suggest_categorical(\"batch_size\", [4, 8, 16, 32]),\n",
    "        \"multi_target_strategy\": trial.suggest_categorical(\"multi_target_strategy\", [\"one-vs-rest\", \"multi-output\", \"classifier-chain\"])\n",
    "    }"
   ]
  },
  {
   "cell_type": "markdown",
   "id": "1d4dcc1c-f78e-48a0-bf76-82bab5e5ac9f",
   "metadata": {},
   "source": [
    "Now, we are ready to do the hyperparameter search. The default settings maximize accuracy, which is fine here. As we are searching 3 parameters, we choose a slightly higher number of trials than the default 10."
   ]
  },
  {
   "cell_type": "code",
   "execution_count": null,
   "id": "a9cf4331-b601-47ab-b485-a373c6c6e11a",
   "metadata": {},
   "outputs": [],
   "source": [
    "best = trainer.hyperparameter_search(hyperparameter_search_function, n_trials=25)\n",
    "best"
   ]
  },
  {
   "cell_type": "markdown",
   "id": "f7932e8d-0a0d-423d-9508-a2ceb6f5cba2",
   "metadata": {},
   "source": [
    "We can study the optimization results in more detail using the `backend` value of the results."
   ]
  },
  {
   "cell_type": "code",
   "execution_count": 10,
   "id": "ea4ed06a-3cdd-4caa-9e6e-abf8604957a3",
   "metadata": {},
   "outputs": [
    {
     "name": "stderr",
     "output_type": "stream",
     "text": [
      "/tmp/ipykernel_221101/1204669043.py:3: ExperimentalWarning: plot_param_importances is experimental (supported from v2.2.0). The interface can change in the future.\n",
      "  plot_param_importances(best.backend);\n"
     ]
    },
    {
     "data": {
      "image/png": "[encoded data removed]",
      "text/plain": [
       "<Figure size 640x480 with 1 Axes>"
      ]
     },
     "metadata": {},
     "output_type": "display_data"
    }
   ],
   "source": [
    "from optuna.visualization.matplotlib import plot_param_importances\n",
    "\n",
    "plot_param_importances(best.backend);"
   ]
  },
  {
   "cell_type": "markdown",
   "id": "da4c41b3-6828-4655-8059-50c186e5edb9",
   "metadata": {},
   "source": [
    "The final step is to train using the optimal parameters and check the model's performance again using the `evaluate()` method. "
   ]
  },
  {
   "cell_type": "code",
   "execution_count": 18,
   "id": "6c449653-73a1-400a-a4e1-e78077fc98fb",
   "metadata": {},
   "outputs": [
    {
     "name": "stderr",
     "output_type": "stream",
     "text": [
      "model_head.pkl not found on HuggingFace Hub, initialising classification head with random weights. You should TRAIN this model on a downstream task to use it for predictions and inference.\n",
      "Applying column mapping to training dataset\n",
      "***** Running training *****\n",
      "  Num examples = 450\n",
      "  Num epochs = 1\n",
      "  Total optimization steps = 29\n",
      "  Total train batch size = 16\n"
     ]
    },
    {
     "data": {
      "application/vnd.jupyter.widget-view+json": {
       "model_id": "30143bd2605d461eb9953c356acd9d5a",
       "version_major": 2,
       "version_minor": 0
      },
      "text/plain": [
       "Epoch:   0%|          | 0/1 [00:00<?, ?it/s]"
      ]
     },
     "metadata": {},
     "output_type": "display_data"
    },
    {
     "data": {
      "application/vnd.jupyter.widget-view+json": {
       "model_id": "97a2dc06f58c4545b236befb7b73e61c",
       "version_major": 2,
       "version_minor": 0
      },
      "text/plain": [
       "Iteration:   0%|          | 0/29 [00:00<?, ?it/s]"
      ]
     },
     "metadata": {},
     "output_type": "display_data"
    }
   ],
   "source": [
    "model = SetFitModel.from_pretrained(model_id, multi_target_strategy=best.hyperparameters[\"multi_target_strategy\"])\n",
    "trainer = SetFitTrainer(\n",
    "    model=model,\n",
    "    learning_rate=best.hyperparameters[\"learning_rate\"],\n",
    "    train_dataset=train_dataset,\n",
    "    eval_dataset=eval_dataset,\n",
    "    loss_class=CosineSimilarityLoss,\n",
    "    batch_size=best.hyperparameters[\"batch_size\"],\n",
    "    num_epochs=1,\n",
    "    num_iterations=5,\n",
    "    column_mapping={\"text\": \"text\", \"labels\": \"label\"},\n",
    ")\n",
    "trainer.train()"
   ]
  },
  {
   "cell_type": "code",
   "execution_count": 19,
   "id": "c8bb86da-3ca5-453d-8685-8bc1e7bc9039",
   "metadata": {},
   "outputs": [
    {
     "name": "stderr",
     "output_type": "stream",
     "text": [
      "Applying column mapping to evaluation dataset\n",
      "***** Running evaluation *****\n"
     ]
    },
    {
     "data": {
      "text/plain": [
       "(0.19451371571072318, {'accuracy': 0.20199501246882792})"
      ]
     },
     "execution_count": 19,
     "metadata": {},
     "output_type": "execute_result"
    }
   ],
   "source": [
    "metrics = trainer.evaluate()\n",
    "best.objective, metrics"
   ]
  },
  {
   "cell_type": "code",
   "execution_count": null,
   "id": "d8385aee-b0ba-4613-85b2-4dfd2cdf5ddc",
   "metadata": {},
   "outputs": [],
   "source": []
  }
 ],
 "metadata": {
  "kernelspec": {
   "display_name": "Python 3 (ipykernel)",
   "language": "python",
   "name": "python3"
  },
  "language_info": {
   "codemirror_mode": {
    "name": "ipython",
    "version": 3
   },
   "file_extension": ".py",
   "mimetype": "text/x-python",
   "name": "python",
   "nbconvert_exporter": "python",
   "pygments_lexer": "ipython3",
   "version": "3.10.7"
  }
 },
 "nbformat": 4,
 "nbformat_minor": 5
}
